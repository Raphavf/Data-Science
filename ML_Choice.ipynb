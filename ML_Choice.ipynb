{
 "cells": [
  {
   "cell_type": "markdown",
   "metadata": {},
   "source": [
    "# Aplicação de Machine Learning  através de Decision Tree e Random Forest"
   ]
  },
  {
   "cell_type": "markdown",
   "metadata": {},
   "source": [
    "# Criação das variáveis y e X"
   ]
  },
  {
   "cell_type": "code",
   "execution_count": 1,
   "metadata": {},
   "outputs": [],
   "source": [
    "#importando bibliotecas e lendo o DataFrame\n",
    "import pandas as pd\n",
    "import numpy as np\n",
    "import matplotlib.pyplot as plt\n",
    "%matplotlib inline\n",
    "df_choice = pd.read_excel('Data Choice.xlsx',header=2)"
   ]
  },
  {
   "cell_type": "code",
   "execution_count": 2,
   "metadata": {},
   "outputs": [],
   "source": [
    "# Criando nova coluna que classifica consumidores fraudulentos com o número '1' e não fraudulentos com o número '0'\n",
    "Inspection_Results_n = []\n",
    "for i in df_choice.Inspection_Results.tolist():\n",
    "    if i == 'Fraud':\n",
    "        i = 1\n",
    "    else:\n",
    "        i = 0\n",
    "    Inspection_Results_n.append(i)"
   ]
  },
  {
   "cell_type": "code",
   "execution_count": 3,
   "metadata": {},
   "outputs": [
    {
     "data": {
      "text/html": [
       "<div>\n",
       "<style scoped>\n",
       "    .dataframe tbody tr th:only-of-type {\n",
       "        vertical-align: middle;\n",
       "    }\n",
       "\n",
       "    .dataframe tbody tr th {\n",
       "        vertical-align: top;\n",
       "    }\n",
       "\n",
       "    .dataframe thead th {\n",
       "        text-align: right;\n",
       "    }\n",
       "</style>\n",
       "<table border=\"1\" class=\"dataframe\">\n",
       "  <thead>\n",
       "    <tr style=\"text-align: right;\">\n",
       "      <th></th>\n",
       "      <th>Instalation_Code</th>\n",
       "      <th>Location</th>\n",
       "      <th>Class</th>\n",
       "      <th>Phase</th>\n",
       "      <th>Fraud_Probability_Rate</th>\n",
       "      <th>Consumption 12M</th>\n",
       "      <th>Consumption 11M</th>\n",
       "      <th>Consumption 10M</th>\n",
       "      <th>Consumption 9M</th>\n",
       "      <th>Consumption 8M</th>\n",
       "      <th>Consumption 7M</th>\n",
       "      <th>Consumption 6M</th>\n",
       "      <th>Consumption 5M</th>\n",
       "      <th>Consumption 4M</th>\n",
       "      <th>Consumption 3M</th>\n",
       "      <th>Consumption 2M</th>\n",
       "      <th>Consumption 1M</th>\n",
       "      <th>Inspection_Results</th>\n",
       "      <th>Ispection_Results_n</th>\n",
       "    </tr>\n",
       "  </thead>\n",
       "  <tbody>\n",
       "    <tr>\n",
       "      <th>0</th>\n",
       "      <td>3</td>\n",
       "      <td>Ilha Azul</td>\n",
       "      <td>Residential</td>\n",
       "      <td>1 Phase</td>\n",
       "      <td>0.5</td>\n",
       "      <td>491.172</td>\n",
       "      <td>702.916</td>\n",
       "      <td>736.914</td>\n",
       "      <td>813.144</td>\n",
       "      <td>762.324</td>\n",
       "      <td>644.2</td>\n",
       "      <td>558.0</td>\n",
       "      <td>548.092</td>\n",
       "      <td>858.788</td>\n",
       "      <td>337.958</td>\n",
       "      <td>640.952</td>\n",
       "      <td>100.0</td>\n",
       "      <td>Fraud</td>\n",
       "      <td>1</td>\n",
       "    </tr>\n",
       "    <tr>\n",
       "      <th>1</th>\n",
       "      <td>5</td>\n",
       "      <td>Ilha Azul</td>\n",
       "      <td>Residential</td>\n",
       "      <td>2 Phase</td>\n",
       "      <td>0.2</td>\n",
       "      <td>592.000</td>\n",
       "      <td>826.000</td>\n",
       "      <td>1081.000</td>\n",
       "      <td>1061.000</td>\n",
       "      <td>1204.000</td>\n",
       "      <td>1111.0</td>\n",
       "      <td>1454.0</td>\n",
       "      <td>1049.000</td>\n",
       "      <td>916.000</td>\n",
       "      <td>1033.000</td>\n",
       "      <td>828.000</td>\n",
       "      <td>813.0</td>\n",
       "      <td>No Fraud</td>\n",
       "      <td>0</td>\n",
       "    </tr>\n",
       "    <tr>\n",
       "      <th>2</th>\n",
       "      <td>6</td>\n",
       "      <td>Ilha Azul</td>\n",
       "      <td>Residential</td>\n",
       "      <td>2 Phase</td>\n",
       "      <td>0.6</td>\n",
       "      <td>50.000</td>\n",
       "      <td>50.000</td>\n",
       "      <td>50.000</td>\n",
       "      <td>50.000</td>\n",
       "      <td>50.000</td>\n",
       "      <td>50.0</td>\n",
       "      <td>524.0</td>\n",
       "      <td>166.000</td>\n",
       "      <td>372.000</td>\n",
       "      <td>314.000</td>\n",
       "      <td>455.000</td>\n",
       "      <td>293.0</td>\n",
       "      <td>No Fraud</td>\n",
       "      <td>0</td>\n",
       "    </tr>\n",
       "    <tr>\n",
       "      <th>3</th>\n",
       "      <td>7</td>\n",
       "      <td>Ilha Azul</td>\n",
       "      <td>Residential</td>\n",
       "      <td>1 Phase</td>\n",
       "      <td>0.4</td>\n",
       "      <td>30.000</td>\n",
       "      <td>30.000</td>\n",
       "      <td>30.000</td>\n",
       "      <td>30.000</td>\n",
       "      <td>30.000</td>\n",
       "      <td>30.0</td>\n",
       "      <td>721.0</td>\n",
       "      <td>721.000</td>\n",
       "      <td>721.000</td>\n",
       "      <td>450.000</td>\n",
       "      <td>450.000</td>\n",
       "      <td>1262.0</td>\n",
       "      <td>Fraud</td>\n",
       "      <td>1</td>\n",
       "    </tr>\n",
       "    <tr>\n",
       "      <th>4</th>\n",
       "      <td>8</td>\n",
       "      <td>Ilha Azul</td>\n",
       "      <td>Residential</td>\n",
       "      <td>1 Phase</td>\n",
       "      <td>0.1</td>\n",
       "      <td>316.000</td>\n",
       "      <td>247.000</td>\n",
       "      <td>196.000</td>\n",
       "      <td>177.000</td>\n",
       "      <td>192.000</td>\n",
       "      <td>166.0</td>\n",
       "      <td>173.0</td>\n",
       "      <td>153.000</td>\n",
       "      <td>245.000</td>\n",
       "      <td>465.000</td>\n",
       "      <td>342.000</td>\n",
       "      <td>355.0</td>\n",
       "      <td>No Fraud</td>\n",
       "      <td>0</td>\n",
       "    </tr>\n",
       "  </tbody>\n",
       "</table>\n",
       "</div>"
      ],
      "text/plain": [
       "   Instalation_Code   Location        Class    Phase  Fraud_Probability_Rate  \\\n",
       "0                 3  Ilha Azul  Residential  1 Phase                     0.5   \n",
       "1                 5  Ilha Azul  Residential  2 Phase                     0.2   \n",
       "2                 6  Ilha Azul  Residential  2 Phase                     0.6   \n",
       "3                 7  Ilha Azul  Residential  1 Phase                     0.4   \n",
       "4                 8  Ilha Azul  Residential  1 Phase                     0.1   \n",
       "\n",
       "   Consumption 12M  Consumption 11M  Consumption 10M  Consumption 9M  \\\n",
       "0          491.172          702.916          736.914         813.144   \n",
       "1          592.000          826.000         1081.000        1061.000   \n",
       "2           50.000           50.000           50.000          50.000   \n",
       "3           30.000           30.000           30.000          30.000   \n",
       "4          316.000          247.000          196.000         177.000   \n",
       "\n",
       "   Consumption 8M  Consumption 7M  Consumption 6M  Consumption 5M  \\\n",
       "0         762.324           644.2           558.0         548.092   \n",
       "1        1204.000          1111.0          1454.0        1049.000   \n",
       "2          50.000            50.0           524.0         166.000   \n",
       "3          30.000            30.0           721.0         721.000   \n",
       "4         192.000           166.0           173.0         153.000   \n",
       "\n",
       "   Consumption 4M  Consumption 3M  Consumption 2M  Consumption 1M  \\\n",
       "0         858.788         337.958         640.952           100.0   \n",
       "1         916.000        1033.000         828.000           813.0   \n",
       "2         372.000         314.000         455.000           293.0   \n",
       "3         721.000         450.000         450.000          1262.0   \n",
       "4         245.000         465.000         342.000           355.0   \n",
       "\n",
       "  Inspection_Results  Ispection_Results_n  \n",
       "0              Fraud                    1  \n",
       "1           No Fraud                    0  \n",
       "2           No Fraud                    0  \n",
       "3              Fraud                    1  \n",
       "4           No Fraud                    0  "
      ]
     },
     "execution_count": 3,
     "metadata": {},
     "output_type": "execute_result"
    }
   ],
   "source": [
    "# Incluindo nova coluna \"Inspection_Results_n\" no DataFrame\n",
    "df_choice['Ispection_Results_n'] = Inspection_Results_n\n",
    "df_choice.head()"
   ]
  },
  {
   "cell_type": "code",
   "execution_count": 4,
   "metadata": {},
   "outputs": [],
   "source": [
    "# Criando variável y \n",
    "y = df_choice['Ispection_Results_n']"
   ]
  },
  {
   "cell_type": "code",
   "execution_count": 5,
   "metadata": {},
   "outputs": [
    {
     "data": {
      "text/plain": [
       "['Instalation_Code',\n",
       " 'Location',\n",
       " 'Class',\n",
       " 'Phase',\n",
       " 'Fraud_Probability_Rate',\n",
       " 'Consumption 12M',\n",
       " 'Consumption 11M',\n",
       " 'Consumption 10M',\n",
       " 'Consumption 9M',\n",
       " 'Consumption 8M',\n",
       " 'Consumption 7M',\n",
       " 'Consumption 6M',\n",
       " 'Consumption 5M',\n",
       " 'Consumption 4M',\n",
       " 'Consumption 3M',\n",
       " 'Consumption 2M',\n",
       " 'Consumption 1M',\n",
       " 'Inspection_Results',\n",
       " 'Ispection_Results_n']"
      ]
     },
     "execution_count": 5,
     "metadata": {},
     "output_type": "execute_result"
    }
   ],
   "source": [
    "# Exibindo lista das colunas\n",
    "df_choice.columns.tolist()"
   ]
  },
  {
   "cell_type": "code",
   "execution_count": 6,
   "metadata": {},
   "outputs": [],
   "source": [
    "#Atribuindo as features que serão utilizadas a uma variável\n",
    "features_names= ['Consumption 12M','Consumption 11M','Consumption 10M', 'Consumption 9M','Consumption 8M','Consumption 7M','Consumption 6M','Consumption 5M','Consumption 4M', 'Consumption 3M','Consumption 2M','Consumption 1M']"
   ]
  },
  {
   "cell_type": "code",
   "execution_count": 7,
   "metadata": {},
   "outputs": [],
   "source": [
    "# Atribuindo as features a X\n",
    "X=df_choice[features_names]"
   ]
  },
  {
   "cell_type": "code",
   "execution_count": 8,
   "metadata": {},
   "outputs": [
    {
     "data": {
      "text/html": [
       "<div>\n",
       "<style scoped>\n",
       "    .dataframe tbody tr th:only-of-type {\n",
       "        vertical-align: middle;\n",
       "    }\n",
       "\n",
       "    .dataframe tbody tr th {\n",
       "        vertical-align: top;\n",
       "    }\n",
       "\n",
       "    .dataframe thead th {\n",
       "        text-align: right;\n",
       "    }\n",
       "</style>\n",
       "<table border=\"1\" class=\"dataframe\">\n",
       "  <thead>\n",
       "    <tr style=\"text-align: right;\">\n",
       "      <th></th>\n",
       "      <th>Consumption 12M</th>\n",
       "      <th>Consumption 11M</th>\n",
       "      <th>Consumption 10M</th>\n",
       "      <th>Consumption 9M</th>\n",
       "      <th>Consumption 8M</th>\n",
       "      <th>Consumption 7M</th>\n",
       "      <th>Consumption 6M</th>\n",
       "      <th>Consumption 5M</th>\n",
       "      <th>Consumption 4M</th>\n",
       "      <th>Consumption 3M</th>\n",
       "      <th>Consumption 2M</th>\n",
       "      <th>Consumption 1M</th>\n",
       "    </tr>\n",
       "  </thead>\n",
       "  <tbody>\n",
       "    <tr>\n",
       "      <th>0</th>\n",
       "      <td>491.172</td>\n",
       "      <td>702.916</td>\n",
       "      <td>736.914</td>\n",
       "      <td>813.144</td>\n",
       "      <td>762.324</td>\n",
       "      <td>644.2</td>\n",
       "      <td>558.0</td>\n",
       "      <td>548.092</td>\n",
       "      <td>858.788</td>\n",
       "      <td>337.958</td>\n",
       "      <td>640.952</td>\n",
       "      <td>100.0</td>\n",
       "    </tr>\n",
       "    <tr>\n",
       "      <th>1</th>\n",
       "      <td>592.000</td>\n",
       "      <td>826.000</td>\n",
       "      <td>1081.000</td>\n",
       "      <td>1061.000</td>\n",
       "      <td>1204.000</td>\n",
       "      <td>1111.0</td>\n",
       "      <td>1454.0</td>\n",
       "      <td>1049.000</td>\n",
       "      <td>916.000</td>\n",
       "      <td>1033.000</td>\n",
       "      <td>828.000</td>\n",
       "      <td>813.0</td>\n",
       "    </tr>\n",
       "    <tr>\n",
       "      <th>2</th>\n",
       "      <td>50.000</td>\n",
       "      <td>50.000</td>\n",
       "      <td>50.000</td>\n",
       "      <td>50.000</td>\n",
       "      <td>50.000</td>\n",
       "      <td>50.0</td>\n",
       "      <td>524.0</td>\n",
       "      <td>166.000</td>\n",
       "      <td>372.000</td>\n",
       "      <td>314.000</td>\n",
       "      <td>455.000</td>\n",
       "      <td>293.0</td>\n",
       "    </tr>\n",
       "    <tr>\n",
       "      <th>3</th>\n",
       "      <td>30.000</td>\n",
       "      <td>30.000</td>\n",
       "      <td>30.000</td>\n",
       "      <td>30.000</td>\n",
       "      <td>30.000</td>\n",
       "      <td>30.0</td>\n",
       "      <td>721.0</td>\n",
       "      <td>721.000</td>\n",
       "      <td>721.000</td>\n",
       "      <td>450.000</td>\n",
       "      <td>450.000</td>\n",
       "      <td>1262.0</td>\n",
       "    </tr>\n",
       "    <tr>\n",
       "      <th>4</th>\n",
       "      <td>316.000</td>\n",
       "      <td>247.000</td>\n",
       "      <td>196.000</td>\n",
       "      <td>177.000</td>\n",
       "      <td>192.000</td>\n",
       "      <td>166.0</td>\n",
       "      <td>173.0</td>\n",
       "      <td>153.000</td>\n",
       "      <td>245.000</td>\n",
       "      <td>465.000</td>\n",
       "      <td>342.000</td>\n",
       "      <td>355.0</td>\n",
       "    </tr>\n",
       "  </tbody>\n",
       "</table>\n",
       "</div>"
      ],
      "text/plain": [
       "   Consumption 12M  Consumption 11M  Consumption 10M  Consumption 9M  \\\n",
       "0          491.172          702.916          736.914         813.144   \n",
       "1          592.000          826.000         1081.000        1061.000   \n",
       "2           50.000           50.000           50.000          50.000   \n",
       "3           30.000           30.000           30.000          30.000   \n",
       "4          316.000          247.000          196.000         177.000   \n",
       "\n",
       "   Consumption 8M  Consumption 7M  Consumption 6M  Consumption 5M  \\\n",
       "0         762.324           644.2           558.0         548.092   \n",
       "1        1204.000          1111.0          1454.0        1049.000   \n",
       "2          50.000            50.0           524.0         166.000   \n",
       "3          30.000            30.0           721.0         721.000   \n",
       "4         192.000           166.0           173.0         153.000   \n",
       "\n",
       "   Consumption 4M  Consumption 3M  Consumption 2M  Consumption 1M  \n",
       "0         858.788         337.958         640.952           100.0  \n",
       "1         916.000        1033.000         828.000           813.0  \n",
       "2         372.000         314.000         455.000           293.0  \n",
       "3         721.000         450.000         450.000          1262.0  \n",
       "4         245.000         465.000         342.000           355.0  "
      ]
     },
     "execution_count": 8,
     "metadata": {},
     "output_type": "execute_result"
    }
   ],
   "source": [
    "# Amostras de X\n",
    "X.head()"
   ]
  },
  {
   "cell_type": "markdown",
   "metadata": {},
   "source": [
    "# Modelo de Machine Learning Utilizando Decision Tree"
   ]
  },
  {
   "cell_type": "code",
   "execution_count": 9,
   "metadata": {},
   "outputs": [],
   "source": [
    "# Importando DecisionTreeRegressor e train_test_split\n",
    "from sklearn.tree import DecisionTreeRegressor\n",
    "from sklearn.model_selection import train_test_split"
   ]
  },
  {
   "cell_type": "code",
   "execution_count": 10,
   "metadata": {},
   "outputs": [],
   "source": [
    "# Separando X e y em Dataframes e series de treino e validação\n",
    "train_X, val_X, train_y, val_y = train_test_split(X, y, random_state = 0)"
   ]
  },
  {
   "cell_type": "code",
   "execution_count": 11,
   "metadata": {},
   "outputs": [],
   "source": [
    "# Criando o modelo \n",
    "fraud_model_dt = DecisionTreeRegressor(random_state=0)\n",
    "fraud_model_dt.fit(train_X,train_y)\n",
    "fraud_predict_dt = fraud_model_dt.predict(val_X)\n",
    "fraud_predct_dt = fraud_predict_dt.astype(int)\n",
    "val_y = val_y.astype(int)"
   ]
  },
  {
   "cell_type": "code",
   "execution_count": 12,
   "metadata": {},
   "outputs": [
    {
     "name": "stdout",
     "output_type": "stream",
     "text": [
      "[1, 0, 0, 1, 1, 1, 0, 1, 0, 0, 0, 0, 0, 1, 0, 1, 1, 0, 0, 0, 0, 0, 0]\n",
      "[0, 0, 0, 0, 0, 0, 0, 0, 1, 1, 0, 0, 0, 0, 0, 1, 0, 0, 1, 0, 0, 0, 0]\n",
      "[False, True, True, False, False, False, True, False, False, False, True, True, True, False, True, True, False, True, False, True, True, True, True]\n"
     ]
    }
   ],
   "source": [
    "# Comparando predições com valores efetivos, visualmente\n",
    "print(fraud_predict_dt.tolist())\n",
    "print(val_y.tolist())\n",
    "print((fraud_predict_dt==val_y).tolist())"
   ]
  },
  {
   "cell_type": "code",
   "execution_count": 13,
   "metadata": {},
   "outputs": [],
   "source": [
    "# Criando função para medir eficiência do modelo\n",
    "'A Função recebe duas series que precisam ter a mesma quantidade de linhas, compara os mesmos com true/false e retorna a porcentagem de de respostas true'\n",
    "def val_ef_model(serie_pred,serie_y):\n",
    "    validation = []\n",
    "    count_true = 0\n",
    "    percent = 0\n",
    "    validation = (serie_pred==serie_y).astype(str)\n",
    "    validation = validation.tolist()\n",
    "    for val in validation:\n",
    "        if val == 'True':\n",
    "            count_true += 1\n",
    "    percent = round((count_true/len(validation))*100)\n",
    "    print('O percentual de acerto deste modelo é {}%'.format(percent))"
   ]
  },
  {
   "cell_type": "code",
   "execution_count": 14,
   "metadata": {},
   "outputs": [
    {
     "name": "stdout",
     "output_type": "stream",
     "text": [
      "O percentual de acerto deste modelo é 57%\n"
     ]
    }
   ],
   "source": [
    "# Eficiência do modelo quando aplicado ao Dataframe de validação\n",
    "val_ef_model(fraud_predict_dt,val_y)"
   ]
  },
  {
   "cell_type": "code",
   "execution_count": 15,
   "metadata": {},
   "outputs": [
    {
     "name": "stdout",
     "output_type": "stream",
     "text": [
      "O percentual de acerto deste modelo é 86%\n"
     ]
    }
   ],
   "source": [
    "# Eficiência do modelo quando aplicado ao Dataframe completo\n",
    "fraud_predict_dt_final = fraud_model_dt.predict(X)\n",
    "val_ef_model(fraud_predict_dt_final,y)"
   ]
  },
  {
   "cell_type": "markdown",
   "metadata": {},
   "source": [
    "# Modelo de Machine Learning utilizando Random Forest"
   ]
  },
  {
   "cell_type": "code",
   "execution_count": 65,
   "metadata": {},
   "outputs": [],
   "source": [
    "# Importando a biblioteca e criando modelo\n",
    "from sklearn.ensemble import RandomForestRegressor\n",
    "fraud_model_rf = RandomForestRegressor(max_leaf_nodes=30,random_state = 0)\n",
    "fraud_model_rf.fit(train_X, train_y)\n",
    "fraud_predict_rf = fraud_model_rf.predict(val_X)\n",
    "fraud_predict_rf = fraud_predict_rf.astype(int)"
   ]
  },
  {
   "cell_type": "code",
   "execution_count": 66,
   "metadata": {},
   "outputs": [
    {
     "name": "stdout",
     "output_type": "stream",
     "text": [
      "[0, 0, 0, 0, 0, 0, 0, 0, 0, 0, 0, 0, 0, 0, 0, 0, 0, 0, 0, 0, 0, 0, 0]\n",
      "[0, 0, 0, 0, 0, 0, 0, 0, 1, 1, 0, 0, 0, 0, 0, 1, 0, 0, 1, 0, 0, 0, 0]\n",
      "[True, True, True, True, True, True, True, True, False, False, True, True, True, True, True, False, True, True, False, True, True, True, True]\n"
     ]
    }
   ],
   "source": [
    "# Comparando predições com valores efetivos, visualmente\n",
    "print(fraud_predict_rf.tolist())\n",
    "print(val_y.tolist())\n",
    "print((fraud_predict_rf==val_y).tolist())"
   ]
  },
  {
   "cell_type": "code",
   "execution_count": 67,
   "metadata": {},
   "outputs": [
    {
     "name": "stdout",
     "output_type": "stream",
     "text": [
      "O percentual de acerto deste modelo é 83%\n"
     ]
    }
   ],
   "source": [
    "# Eficiência do modelo quando aplicado ao Dataframe de validação\n",
    "val_ef_model(fraud_predict_rf,val_y)"
   ]
  },
  {
   "cell_type": "code",
   "execution_count": 68,
   "metadata": {},
   "outputs": [
    {
     "name": "stdout",
     "output_type": "stream",
     "text": [
      "O percentual de acerto deste modelo é 86%\n"
     ]
    }
   ],
   "source": [
    "# Eficiência do modelo quando aplicado ao Dataframe completo\n",
    "fraud_predict_rf_final = fraud_model_dt.predict(X)\n",
    "val_ef_model(fraud_predict_rf_final,y)"
   ]
  }
 ],
 "metadata": {
  "kernelspec": {
   "display_name": "Python 3",
   "language": "python",
   "name": "python3"
  },
  "language_info": {
   "codemirror_mode": {
    "name": "ipython",
    "version": 3
   },
   "file_extension": ".py",
   "mimetype": "text/x-python",
   "name": "python",
   "nbconvert_exporter": "python",
   "pygments_lexer": "ipython3",
   "version": "3.7.2"
  }
 },
 "nbformat": 4,
 "nbformat_minor": 2
}
