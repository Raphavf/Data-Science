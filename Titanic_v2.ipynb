{
 "cells": [
  {
   "cell_type": "markdown",
   "metadata": {},
   "source": [
    "# Explorando  e adequando o DataFrame para a análise"
   ]
  },
  {
   "cell_type": "code",
   "execution_count": 147,
   "metadata": {},
   "outputs": [],
   "source": [
    "#Importando bibliotecas e lendo o csv\n",
    "import pandas as pd\n",
    "import numpy as np\n",
    "import matplotlib.pyplot as plt\n",
    "%matplotlib inline\n",
    "df_titanic = pd.read_csv('titanic-data-6.csv')\n"
   ]
  },
  {
   "cell_type": "code",
   "execution_count": 148,
   "metadata": {
    "scrolled": true
   },
   "outputs": [
    {
     "data": {
      "text/html": [
       "<div>\n",
       "<style scoped>\n",
       "    .dataframe tbody tr th:only-of-type {\n",
       "        vertical-align: middle;\n",
       "    }\n",
       "\n",
       "    .dataframe tbody tr th {\n",
       "        vertical-align: top;\n",
       "    }\n",
       "\n",
       "    .dataframe thead th {\n",
       "        text-align: right;\n",
       "    }\n",
       "</style>\n",
       "<table border=\"1\" class=\"dataframe\">\n",
       "  <thead>\n",
       "    <tr style=\"text-align: right;\">\n",
       "      <th></th>\n",
       "      <th>PassengerId</th>\n",
       "      <th>Survived</th>\n",
       "      <th>Pclass</th>\n",
       "      <th>Name</th>\n",
       "      <th>Sex</th>\n",
       "      <th>Age</th>\n",
       "      <th>SibSp</th>\n",
       "      <th>Parch</th>\n",
       "      <th>Ticket</th>\n",
       "      <th>Fare</th>\n",
       "      <th>Cabin</th>\n",
       "      <th>Embarked</th>\n",
       "    </tr>\n",
       "  </thead>\n",
       "  <tbody>\n",
       "    <tr>\n",
       "      <th>0</th>\n",
       "      <td>1</td>\n",
       "      <td>0</td>\n",
       "      <td>3</td>\n",
       "      <td>Braund, Mr. Owen Harris</td>\n",
       "      <td>male</td>\n",
       "      <td>22.0</td>\n",
       "      <td>1</td>\n",
       "      <td>0</td>\n",
       "      <td>A/5 21171</td>\n",
       "      <td>7.2500</td>\n",
       "      <td>NaN</td>\n",
       "      <td>S</td>\n",
       "    </tr>\n",
       "    <tr>\n",
       "      <th>1</th>\n",
       "      <td>2</td>\n",
       "      <td>1</td>\n",
       "      <td>1</td>\n",
       "      <td>Cumings, Mrs. John Bradley (Florence Briggs Th...</td>\n",
       "      <td>female</td>\n",
       "      <td>38.0</td>\n",
       "      <td>1</td>\n",
       "      <td>0</td>\n",
       "      <td>PC 17599</td>\n",
       "      <td>71.2833</td>\n",
       "      <td>C85</td>\n",
       "      <td>C</td>\n",
       "    </tr>\n",
       "    <tr>\n",
       "      <th>2</th>\n",
       "      <td>3</td>\n",
       "      <td>1</td>\n",
       "      <td>3</td>\n",
       "      <td>Heikkinen, Miss. Laina</td>\n",
       "      <td>female</td>\n",
       "      <td>26.0</td>\n",
       "      <td>0</td>\n",
       "      <td>0</td>\n",
       "      <td>STON/O2. 3101282</td>\n",
       "      <td>7.9250</td>\n",
       "      <td>NaN</td>\n",
       "      <td>S</td>\n",
       "    </tr>\n",
       "    <tr>\n",
       "      <th>3</th>\n",
       "      <td>4</td>\n",
       "      <td>1</td>\n",
       "      <td>1</td>\n",
       "      <td>Futrelle, Mrs. Jacques Heath (Lily May Peel)</td>\n",
       "      <td>female</td>\n",
       "      <td>35.0</td>\n",
       "      <td>1</td>\n",
       "      <td>0</td>\n",
       "      <td>113803</td>\n",
       "      <td>53.1000</td>\n",
       "      <td>C123</td>\n",
       "      <td>S</td>\n",
       "    </tr>\n",
       "    <tr>\n",
       "      <th>4</th>\n",
       "      <td>5</td>\n",
       "      <td>0</td>\n",
       "      <td>3</td>\n",
       "      <td>Allen, Mr. William Henry</td>\n",
       "      <td>male</td>\n",
       "      <td>35.0</td>\n",
       "      <td>0</td>\n",
       "      <td>0</td>\n",
       "      <td>373450</td>\n",
       "      <td>8.0500</td>\n",
       "      <td>NaN</td>\n",
       "      <td>S</td>\n",
       "    </tr>\n",
       "  </tbody>\n",
       "</table>\n",
       "</div>"
      ],
      "text/plain": [
       "   PassengerId  Survived  Pclass  \\\n",
       "0            1         0       3   \n",
       "1            2         1       1   \n",
       "2            3         1       3   \n",
       "3            4         1       1   \n",
       "4            5         0       3   \n",
       "\n",
       "                                                Name     Sex   Age  SibSp  \\\n",
       "0                            Braund, Mr. Owen Harris    male  22.0      1   \n",
       "1  Cumings, Mrs. John Bradley (Florence Briggs Th...  female  38.0      1   \n",
       "2                             Heikkinen, Miss. Laina  female  26.0      0   \n",
       "3       Futrelle, Mrs. Jacques Heath (Lily May Peel)  female  35.0      1   \n",
       "4                           Allen, Mr. William Henry    male  35.0      0   \n",
       "\n",
       "   Parch            Ticket     Fare Cabin Embarked  \n",
       "0      0         A/5 21171   7.2500   NaN        S  \n",
       "1      0          PC 17599  71.2833   C85        C  \n",
       "2      0  STON/O2. 3101282   7.9250   NaN        S  \n",
       "3      0            113803  53.1000  C123        S  \n",
       "4      0            373450   8.0500   NaN        S  "
      ]
     },
     "execution_count": 148,
     "metadata": {},
     "output_type": "execute_result"
    }
   ],
   "source": [
    "# Primeiras 5 amostras do DataFrame\n",
    "df_titanic.head()"
   ]
  },
  {
   "cell_type": "code",
   "execution_count": 149,
   "metadata": {},
   "outputs": [
    {
     "data": {
      "text/plain": [
       "Index(['PassengerId', 'Survived', 'Pclass', 'Name', 'Sex', 'Age', 'SibSp',\n",
       "       'Parch', 'Ticket', 'Fare', 'Cabin', 'Embarked'],\n",
       "      dtype='object')"
      ]
     },
     "execution_count": 149,
     "metadata": {},
     "output_type": "execute_result"
    }
   ],
   "source": [
    "# Verificando os títulos das colunas\n",
    "df_titanic.columns"
   ]
  },
  {
   "cell_type": "code",
   "execution_count": 150,
   "metadata": {},
   "outputs": [
    {
     "name": "stdout",
     "output_type": "stream",
     "text": [
      "A quantidade de linhas duplicados é 0.\n"
     ]
    }
   ],
   "source": [
    "# Verificando se há linhas duplicadas no DataFrame\n",
    "sum_duplic = sum(df_titanic.duplicated())\n",
    "print('A quantidade de linhas duplicados é {}.'.format(sum_duplic))"
   ]
  },
  {
   "cell_type": "code",
   "execution_count": 151,
   "metadata": {},
   "outputs": [
    {
     "name": "stdout",
     "output_type": "stream",
     "text": [
      "O DataFrame possui 891 linha(s) e 12 colunas.\n"
     ]
    }
   ],
   "source": [
    "# Dimensões do DataFrame\n",
    "dimensions = df_titanic.shape\n",
    "print('O DataFrame possui {} linha(s) e {} colunas.'.format(dimensions[0], dimensions[1]))"
   ]
  },
  {
   "cell_type": "code",
   "execution_count": 152,
   "metadata": {},
   "outputs": [
    {
     "data": {
      "text/plain": [
       "PassengerId      0\n",
       "Survived         0\n",
       "Pclass           0\n",
       "Name             0\n",
       "Sex              0\n",
       "Age            177\n",
       "SibSp            0\n",
       "Parch            0\n",
       "Ticket           0\n",
       "Fare             0\n",
       "Cabin          687\n",
       "Embarked         2\n",
       "dtype: int64"
      ]
     },
     "execution_count": 152,
     "metadata": {},
     "output_type": "execute_result"
    }
   ],
   "source": [
    "# Verificando se há linhas com valores não definidos e a quantidade de valores não definidos por coluna\n",
    "df_titanic.isnull().sum()"
   ]
  },
  {
   "cell_type": "code",
   "execution_count": 153,
   "metadata": {},
   "outputs": [
    {
     "data": {
      "text/plain": [
       "array(['male'], dtype=object)"
      ]
     },
     "execution_count": 153,
     "metadata": {},
     "output_type": "execute_result"
    }
   ],
   "source": [
    "# Criando um DataFrame exclusivo de homens\n",
    "df_titanic_m = df_titanic.query('Sex==\"male\"')\n",
    "\n",
    "#Demosntrando que há apenas homens no DataFrame\n",
    "df_titanic_m.Sex.unique()"
   ]
  },
  {
   "cell_type": "code",
   "execution_count": 154,
   "metadata": {},
   "outputs": [
    {
     "data": {
      "text/plain": [
       "array(['female'], dtype=object)"
      ]
     },
     "execution_count": 154,
     "metadata": {},
     "output_type": "execute_result"
    }
   ],
   "source": [
    "# Criando um DataFrame exclusivo de mulheres\n",
    "df_titanic_f = df_titanic.query('Sex==\"female\"')\n",
    "\n",
    "# Demonstrando que há apenas mulheres nos DataFrame\n",
    "df_titanic_f.Sex.unique()"
   ]
  },
  {
   "cell_type": "code",
   "execution_count": 155,
   "metadata": {},
   "outputs": [
    {
     "data": {
      "text/plain": [
       "0"
      ]
     },
     "execution_count": 155,
     "metadata": {},
     "output_type": "execute_result"
    }
   ],
   "source": [
    "# Substituindo o valores faltantes em \"Age\" pela idade  média dos homens\n",
    "mean_age_m = df_titanic_m.Age.mean()\n",
    "df_titanic_m.Age.fillna(mean_age_m, inplace = True)\n",
    "\n",
    "# Demonstrando que não há mais valores nulos em \"Age\" no DataFrame de homens\n",
    "df_titanic_m.Age.isnull().sum()"
   ]
  },
  {
   "cell_type": "code",
   "execution_count": 156,
   "metadata": {},
   "outputs": [
    {
     "data": {
      "text/plain": [
       "0"
      ]
     },
     "execution_count": 156,
     "metadata": {},
     "output_type": "execute_result"
    }
   ],
   "source": [
    "# Substituindo o valores faltantes em \"Age\" pela idade  média das Mulheres\n",
    "mean_age_f = df_titanic_f.Age.mean()\n",
    "df_titanic_f.Age.fillna(mean_age_f, inplace = True)\n",
    "# Demonstrando que não há mais valores nulos em \"Age\" no DataFrame de mulheres\n",
    "df_titanic_f.Age.isnull().sum()"
   ]
  },
  {
   "cell_type": "code",
   "execution_count": 157,
   "metadata": {},
   "outputs": [
    {
     "name": "stderr",
     "output_type": "stream",
     "text": [
      "C:\\Users\\rmuni\\Anaconda3\\lib\\site-packages\\ipykernel_launcher.py:2: SettingWithCopyWarning: \n",
      "A value is trying to be set on a copy of a slice from a DataFrame.\n",
      "Try using .loc[row_indexer,col_indexer] = value instead\n",
      "\n",
      "See the caveats in the documentation: http://pandas.pydata.org/pandas-docs/stable/indexing.html#indexing-view-versus-copy\n",
      "  \n"
     ]
    }
   ],
   "source": [
    "# Criando coluna de faixa etária no data frame de homens\n",
    "df_titanic_m['Age_Group'] = pd.cut(df_titanic_m.Age, [0, 14, 50, 150], labels=[\"kids\", \"adults\", \"seniors\"])"
   ]
  },
  {
   "cell_type": "code",
   "execution_count": 158,
   "metadata": {},
   "outputs": [
    {
     "name": "stderr",
     "output_type": "stream",
     "text": [
      "C:\\Users\\rmuni\\Anaconda3\\lib\\site-packages\\ipykernel_launcher.py:2: SettingWithCopyWarning: \n",
      "A value is trying to be set on a copy of a slice from a DataFrame.\n",
      "Try using .loc[row_indexer,col_indexer] = value instead\n",
      "\n",
      "See the caveats in the documentation: http://pandas.pydata.org/pandas-docs/stable/indexing.html#indexing-view-versus-copy\n",
      "  \n"
     ]
    }
   ],
   "source": [
    "# Criando coluna de faixa etáriano DataFrame de mulheres\n",
    "df_titanic_f['Age_Group'] = pd.cut(df_titanic_f.Age, [0, 14, 50, 150], labels=[\"kids\", \"adults\", \"seniors\"])"
   ]
  },
  {
   "cell_type": "markdown",
   "metadata": {},
   "source": [
    "# Dentre os homens deste DataFrame, qual a quantidade, a porcentagem e a idade média dos que sobreviveram?"
   ]
  },
  {
   "cell_type": "code",
   "execution_count": 159,
   "metadata": {},
   "outputs": [],
   "source": [
    "# somando a quantidade total de homens\n",
    "sum_m = df_titanic_m.shape[0]\n",
    "\n",
    "# somando a quantidade de homens que sobreviveram\n",
    "df_m_surv = df_titanic_m.query('Survived==\"1\"')\n",
    "sum_m_surv = df_m_surv.shape[0]\n",
    "\n",
    "# somando a quantidade de homens que morreram\n",
    "df_m_died = df_titanic_m.query('Survived==\"0\"')\n",
    "sum_m_died = df_m_died.shape[0]\n",
    "\n",
    "# porcentagem de homens que morreram e sobreviveram\n",
    "perc_m_surv = round((sum_m_surv/sum_m)*100)\n",
    "perc_m_died = round((sum_m_died/sum_m)*100)"
   ]
  },
  {
   "cell_type": "code",
   "execution_count": 160,
   "metadata": {},
   "outputs": [
    {
     "name": "stdout",
     "output_type": "stream",
     "text": [
      "Homens Sobreviventes: 109 \n",
      "Homens Mortos: 468\n"
     ]
    },
    {
     "data": {
      "image/png": "[encoded data removed]",
      "text/plain": [
       "<Figure size 432x288 with 1 Axes>"
      ]
     },
     "metadata": {
      "needs_background": "light"
     },
     "output_type": "display_data"
    }
   ],
   "source": [
    "# Criando gráfico de barras do comparativo da quantidade de homens sobreviventes e mortos\n",
    "plt.bar([1,2],[sum_m_surv,sum_m_died],color = ['orange', 'blue'], tick_label=['Sobreviventes','Mortos'])\n",
    "plt.title('Quantidade de Homens Sobreviventes e Mortos')\n",
    "plt.ylabel('Quantidade de Homens')\n",
    "plt.xlabel('Sobreviventes ou Mortos')\n",
    "print('Homens Sobreviventes: {} \\nHomens Mortos: {}'.format(sum_m_surv,sum_m_died))"
   ]
  },
  {
   "cell_type": "code",
   "execution_count": 161,
   "metadata": {
    "scrolled": false
   },
   "outputs": [
    {
     "name": "stdout",
     "output_type": "stream",
     "text": [
      "Homens Sobreviventes: 19% \n",
      "Homens Mortos: 81%\n"
     ]
    },
    {
     "data": {
      "image/png": "[encoded data removed]",
      "text/plain": [
       "<Figure size 432x288 with 1 Axes>"
      ]
     },
     "metadata": {},
     "output_type": "display_data"
    }
   ],
   "source": [
    "#Criando gráfico de barras da porcentagem de homens sobreviventes e mortos\n",
    "\n",
    "plt.pie([perc_m_surv, perc_m_died],labels=['Sobreviventes','Mortos'], colors=['orange','blue'], startangle=90)\n",
    "plt.title('Porcentagem de Homens Sobreviventes e Mortos')\n",
    "print('Homens Sobreviventes: {}% \\nHomens Mortos: {}%'.format(perc_m_surv, perc_m_died))"
   ]
  },
  {
   "cell_type": "code",
   "execution_count": 162,
   "metadata": {},
   "outputs": [
    {
     "name": "stdout",
     "output_type": "stream",
     "text": [
      "A média de idade dos homens sobreviventes é de 28 anos.\n"
     ]
    }
   ],
   "source": [
    "# Idade média dos homens que sobreviveram\n",
    "mean_m_surv = round(df_m_surv.Age.mean())\n",
    "print('A média de idade dos homens sobreviventes é de {} anos.'.format(mean_m_surv))"
   ]
  },
  {
   "cell_type": "markdown",
   "metadata": {},
   "source": [
    "# Dentre os homens Deste DataFrame, qual faixa etária apresentou a maior  proporção de sobreviventes?"
   ]
  },
  {
   "cell_type": "code",
   "execution_count": 163,
   "metadata": {},
   "outputs": [
    {
     "data": {
      "text/plain": [
       "<matplotlib.axes._subplots.AxesSubplot at 0x25258a690f0>"
      ]
     },
     "execution_count": 163,
     "metadata": {},
     "output_type": "execute_result"
    },
    {
     "data": {
      "image/png": "[encoded data removed]",
      "text/plain": [
       "<Figure size 432x288 with 1 Axes>"
      ]
     },
     "metadata": {
      "needs_background": "light"
     },
     "output_type": "display_data"
    }
   ],
   "source": [
    "#Comparando a quantidade absoluta de homens sobreviventes por faixa etária\n",
    "df_titanic_m.groupby(['Age_Group', 'Survived']).size().unstack().plot.bar()"
   ]
  },
  {
   "cell_type": "code",
   "execution_count": 164,
   "metadata": {},
   "outputs": [
    {
     "name": "stdout",
     "output_type": "stream",
     "text": [
      "A faixa etária que apresentou a maior proporção de sobreviventes dentre os homens foi a das crianças com 54%.\n"
     ]
    },
    {
     "data": {
      "image/png": "[encoded data removed]",
      "text/plain": [
       "<Figure size 432x288 with 1 Axes>"
      ]
     },
     "metadata": {
      "needs_background": "light"
     },
     "output_type": "display_data"
    }
   ],
   "source": [
    "# Criando DataFrames de homens sobreviventes por faixa etária\n",
    "df_kids_m_surv = df_m_surv.query('Age_Group == \"kids\"')\n",
    "df_adults_m_surv = df_m_surv.query('Age_Group == \"adults\"')\n",
    "df_seniors_m_surv = df_m_surv.query('Age_Group == \"seniors\"')\n",
    "\n",
    "# Verificando a proporcionalidade de homens sobreviventes por faixa etária\n",
    "perc_kids_m_surv = round((df_kids_m_surv.shape[0]/df_titanic_m.query('Age_Group == \"kids\"').shape[0])*100)\n",
    "perc_adults_m_surv = round((df_adults_m_surv.shape[0]/df_titanic_m.query('Age_Group == \"adults\"').shape[0])*100)\n",
    "perc_seniors_m_surv = round((df_seniors_m_surv.shape[0]/df_titanic_m.query('Age_Group == \"seniors\"').shape[0])*100)\n",
    "\n",
    "# Criando gráfico comparativo de proporcionalidade de sobreviventes homens por faixa etária\n",
    "plt.bar([1,2,3],[perc_kids_m_surv, perc_adults_m_surv, perc_seniors_m_surv],color = ['yellow', 'blue', 'purple'], tick_label = ['Crianças','Adultos','Idosos'])\n",
    "plt.title('Proporção de homens sobreviventes por Faixa Etária')\n",
    "plt.ylabel('Porcentagem de Homens sobreviventes')\n",
    "plt.xlabel('Faixa Etária')\n",
    "# Criando condiocional para declarar a faixa etária com a maior proporção de sobreviventes\n",
    "if perc_kids_m_surv >= perc_adults_m_surv and perc_kids_m_surv >= perc_seniors_m_surv:\n",
    "    print('A faixa etária que apresentou a maior proporção de sobreviventes dentre os homens foi a das crianças com {}%.'.format(perc_kids_m_surv))\n",
    "elif perc_adults_m_surv >= perc_kids_m_surv and perc_adults_m_surv >= perc_seniors_m_surv:\n",
    "    print('A faixa etária que apresentou a maior proporção de sobreviventes dentre os homens foi a dos adultos com {}%.'.format(perc_adults_m_surv))\n",
    "else:\n",
    "    print('A faixa etária que apresentou a maior proporção de sobreviventes dentre os homens foi a dos idosos com {}%.'.format(perc_seniors_m_surv))"
   ]
  },
  {
   "cell_type": "markdown",
   "metadata": {},
   "source": [
    "# Conclusões parciais sobre a análise do Dataframe de Homens"
   ]
  },
  {
   "cell_type": "markdown",
   "metadata": {},
   "source": [
    "- Dentre o universo de homens(577) deste DataFrame, foi verificado que 468 homens morreram, enquanto 109 homens sobreviveram, apresentando uma porcentagem de sobrevivência de apenas 19%. A idade média de sobreviventes homens foi de 28 anos, porém a faixa etária que apresentou a maior quantidade, proporcional, de sobreviventes foi a de crianças(de 0 a 13 anos) com taxa de sobrevivência de 54%."
   ]
  },
  {
   "cell_type": "markdown",
   "metadata": {},
   "source": [
    "# Dentre as mulheres deste DataFrame, qual a quantidade, a porcentagem e a idade média das que sobreviveram?"
   ]
  },
  {
   "cell_type": "code",
   "execution_count": 165,
   "metadata": {},
   "outputs": [],
   "source": [
    "# somando a quantidade total de mulheres\n",
    "sum_f = df_titanic_f.shape[0]\n",
    "\n",
    "# somando a quantidade de mulheres que sobreviveram\n",
    "df_f_surv = df_titanic_f.query('Survived==\"1\"')\n",
    "sum_f_surv = df_f_surv.shape[0]\n",
    "\n",
    "# somando a quantidade de mulheres que morreram\n",
    "df_f_died = df_titanic_f.query('Survived==\"0\"')\n",
    "sum_f_died = df_f_died.shape[0]\n",
    "\n",
    "# porcentagem de mulheres que morreram e sobreviveram\n",
    "perc_f_surv = round((sum_f_surv/sum_f)*100)\n",
    "perc_f_died = round((sum_f_died/sum_f)*100)"
   ]
  },
  {
   "cell_type": "code",
   "execution_count": 166,
   "metadata": {
    "scrolled": true
   },
   "outputs": [
    {
     "name": "stdout",
     "output_type": "stream",
     "text": [
      "Mulheres Sobreviventes: 233 \n",
      "Mulheres Mortas: 81\n"
     ]
    },
    {
     "data": {
      "image/png": "[encoded data removed]",
      "text/plain": [
       "<Figure size 432x288 with 1 Axes>"
      ]
     },
     "metadata": {
      "needs_background": "light"
     },
     "output_type": "display_data"
    }
   ],
   "source": [
    "# Criando gráfico de barras do comparativo da quantidade de mulheres sobreviventes e mortas\n",
    "plt.bar([1,2],[sum_f_surv,sum_f_died],color = ['orange','blue'], tick_label=['Sobreviventes','Mortas'])\n",
    "plt.title('Quantidade de Mulheres Sobreviventes e Mortas')\n",
    "plt.ylabel('Quantidade de Mulheres')\n",
    "plt.xlabel('Sobreviventes ou Mortas')\n",
    "print('Mulheres Sobreviventes: {} \\nMulheres Mortas: {}'.format(sum_f_surv,sum_f_died))"
   ]
  },
  {
   "cell_type": "code",
   "execution_count": 167,
   "metadata": {},
   "outputs": [
    {
     "name": "stdout",
     "output_type": "stream",
     "text": [
      "Mulheres Sobreviventes: 74% \n",
      "Mulheres Mortas: 26%\n"
     ]
    },
    {
     "data": {
      "image/png": "[encoded data removed]",
      "text/plain": [
       "<Figure size 432x288 with 1 Axes>"
      ]
     },
     "metadata": {},
     "output_type": "display_data"
    }
   ],
   "source": [
    "# Criando gráfico de barras de Porcentagem de mulheres sobreviventes e mortas\n",
    "plt.pie([perc_f_surv, perc_f_died],labels=['Sobreviventes','Mortas'], colors=['orange','blue'], startangle=90)\n",
    "plt.title('Porcentagem de Mulheres Sobreviventes e Mortas')\n",
    "print('Mulheres Sobreviventes: {}% \\nMulheres Mortas: {}%'.format(perc_f_surv, perc_f_died))"
   ]
  },
  {
   "cell_type": "code",
   "execution_count": 168,
   "metadata": {},
   "outputs": [
    {
     "name": "stdout",
     "output_type": "stream",
     "text": [
      "A média de idade das mulheres sobreviventes é de 29 anos.\n"
     ]
    }
   ],
   "source": [
    "# Idade média das mulheres que sobreviveram\n",
    "mean_f_surv = round(df_f_surv.Age.mean())\n",
    "print('A média de idade das mulheres sobreviventes é de {} anos.'.format(mean_f_surv))"
   ]
  },
  {
   "cell_type": "markdown",
   "metadata": {},
   "source": [
    "# Dentre as mulheres Deste DataFrame, qual faixa etária apresentou a maior  proporção de sobreviventes?"
   ]
  },
  {
   "cell_type": "code",
   "execution_count": 174,
   "metadata": {},
   "outputs": [
    {
     "data": {
      "text/plain": [
       "<matplotlib.axes._subplots.AxesSubplot at 0x25258aa5a90>"
      ]
     },
     "execution_count": 174,
     "metadata": {},
     "output_type": "execute_result"
    },
    {
     "data": {
      "image/png": "[encoded data removed]",
      "text/plain": [
       "<Figure size 432x288 with 1 Axes>"
      ]
     },
     "metadata": {
      "needs_background": "light"
     },
     "output_type": "display_data"
    }
   ],
   "source": [
    "#Comparando a quantidade absoluta de mulheres sobreviventes por faixa etária\n",
    "df_titanic_f.groupby(['Age_Group', 'Survived']).size().unstack().plot.bar()"
   ]
  },
  {
   "cell_type": "code",
   "execution_count": 170,
   "metadata": {},
   "outputs": [
    {
     "name": "stdout",
     "output_type": "stream",
     "text": [
      "A faixa etária que apresentou a maior proporção de sobreviventes dentre as mulheres foi a das idosas com 94%.\n"
     ]
    },
    {
     "data": {
      "image/png": "[encoded data removed]",
      "text/plain": [
       "<Figure size 432x288 with 1 Axes>"
      ]
     },
     "metadata": {
      "needs_background": "light"
     },
     "output_type": "display_data"
    }
   ],
   "source": [
    "# Criando DataFrames de mulheres sobreviventes por faixa etária\n",
    "df_kids_f_surv = df_f_surv.query('Age_Group == \"kids\"')\n",
    "df_adults_f_surv = df_f_surv.query('Age_Group == \"adults\"')\n",
    "df_seniors_f_surv = df_f_surv.query('Age_Group == \"seniors\"')\n",
    "\n",
    "# Verificando a proporcionalidade de mulheres sobreviventes por faixa etária\n",
    "perc_kids_f_surv = round((df_kids_f_surv.shape[0]/df_titanic_f.query('Age_Group == \"kids\"').shape[0])*100)\n",
    "perc_adults_f_surv = round((df_adults_f_surv.shape[0]/df_titanic_f.query('Age_Group == \"adults\"').shape[0])*100)\n",
    "perc_seniors_f_surv = round((df_seniors_f_surv.shape[0]/df_titanic_f.query('Age_Group == \"seniors\"').shape[0])*100)\n",
    "\n",
    "# Criando gráfico comparativo de proporcionalidade de sobreviventes mulheres por faixa etária\n",
    "plt.bar([1,2,3],[perc_kids_f_surv, perc_adults_f_surv, perc_seniors_f_surv],color = ['yellow','blue','purple'], tick_label = ['Crianças','Adultas','Idosas'])\n",
    "plt.title('Proporção de mulheres sobreviventes por Faixa Etária')\n",
    "plt.ylabel('Porcentagem de Mulheres sobreviventes')\n",
    "plt.xlabel('Faixa Etária')\n",
    "\n",
    "# Criando condiocional para declarar a faixa etária com a maior proporção de sobreviventes\n",
    "if perc_kids_f_surv >= perc_adults_f_surv and perc_kids_f_surv >= perc_seniors_f_surv:\n",
    "    print('A faixa etária que apresentou a maior proporção de sobreviventes dentre as mulheres foi a das crianças com {}%.'.format(perc_kids_f_surv))\n",
    "elif perc_adults_f_surv >= perc_kids_f_surv and perc_adults_f_surv >= perc_seniors_f_surv:\n",
    "    print('A faixa etária que apresentou a maior proporção de sobreviventes dentre as mulheres foi a das adultas com {}%.'.format(perc_adults_f_surv))\n",
    "else:\n",
    "    print('A faixa etária que apresentou a maior proporção de sobreviventes dentre as mulheres foi a das idosas com {}%.'.format(perc_seniors_f_surv))"
   ]
  },
  {
   "cell_type": "markdown",
   "metadata": {},
   "source": [
    "# Conclusões parciais sobre a análise do Dataframe de Mulheres"
   ]
  },
  {
   "cell_type": "markdown",
   "metadata": {},
   "source": [
    "- Dentre o universo de mulheres(314) deste DataFrame, foi verificado que 81 mulheres morreram, enquanto 233 mulheres sobreviveram, apresentando uma alta taxa de sobrevivência de 74%. A idade média de sobreviventes mulheres foi de 29 anos, porém a faixa etária que apresentou a maior quantidade, proporcional, de sobreviventes foi a de idosas(de 50 a 149 anos) com taxa de sobrevivência de 94%."
   ]
  },
  {
   "cell_type": "markdown",
   "metadata": {},
   "source": [
    "# Dentre as divisões de classe dos passageiros do Titanic, qual a que apresentou a maior quantidade absoluta de sobreviventes?"
   ]
  },
  {
   "cell_type": "code",
   "execution_count": 171,
   "metadata": {},
   "outputs": [
    {
     "name": "stdout",
     "output_type": "stream",
     "text": [
      "As classes de passageiros que o Titanic oferecia eram 1ª, 2ª e 3ª.\n"
     ]
    }
   ],
   "source": [
    "# Verificando as opções de classes do navio\n",
    "classes = df_titanic.Pclass.unique()\n",
    "print('As classes de passageiros que o Titanic oferecia eram {}ª, {}ª e {}ª.'. format(classes[1],classes[2], classes[0]))"
   ]
  },
  {
   "cell_type": "code",
   "execution_count": 172,
   "metadata": {},
   "outputs": [
    {
     "name": "stdout",
     "output_type": "stream",
     "text": [
      "A classe que apresentou o maior número de sobreviventes foi a 1ª classe com 136 pessoas.\n"
     ]
    },
    {
     "data": {
      "image/png": "[encoded data removed]",
      "text/plain": [
       "<Figure size 432x288 with 1 Axes>"
      ]
     },
     "metadata": {
      "needs_background": "light"
     },
     "output_type": "display_data"
    }
   ],
   "source": [
    "# Criando DataFrame de sobreviventes\n",
    "df_titanic_surv = df_titanic.query('Survived == \"1\"')\n",
    "\n",
    "# Criando Dataframes de classes\n",
    "df_surv_class_1 = df_titanic_surv.query('Pclass == \"1\"')\n",
    "df_surv_class_2 = df_titanic_surv.query('Pclass == \"2\"')\n",
    "df_surv_class_3 = df_titanic_surv.query('Pclass == \"3\"')\n",
    "\n",
    "# Criando Gráfico de barras de sobreviventes por classe\n",
    "plt.bar([1,2,3],[df_surv_class_1.shape[0],df_surv_class_2.shape[0],df_surv_class_3.shape[0]],color =['gold','silver','brown'], tick_label=['1ª','2ª','3ª'])\n",
    "plt.title('Sobreviventes por Classe')\n",
    "plt.ylabel('Quantidade de sobreviventes')\n",
    "plt.xlabel('Classe')\n",
    "# Condicional para declarar qual classe apresentou mais sobreviventes\n",
    "if df_surv_class_1.shape[0] >= df_surv_class_2.shape[0] and df_surv_class_1.shape[0] >= df_surv_class_3.shape[0]:\n",
    "    print('A classe que apresentou o maior número de sobreviventes foi a 1ª classe com {} pessoas.'.format(df_surv_class_1.shape[0]))\n",
    "elif df_surv_class_2.shape[0] >= df_surv_class_1.shape[0] and df_surv_class_2.shape[0] >= df_surv_class_3.shape[0]:\n",
    "    print('A classe que apresentou o maior número de sobreviventes foi a 2ª classe com {} pessoas.'.format(df_surv_class_2.shape[0]))\n",
    "else:\n",
    "    print('A classe que apresentou o maior número de sobreviventes foi a 3ª classe com {} pessoas.'.format(df_surv_class_1.shape[0]))"
   ]
  },
  {
   "cell_type": "markdown",
   "metadata": {},
   "source": [
    "# Dentre as divisões de classe dos passageiros do Titanic, qual a que apresentou a maior quantidade proporcional de sobreviventes?"
   ]
  },
  {
   "cell_type": "code",
   "execution_count": 173,
   "metadata": {},
   "outputs": [
    {
     "name": "stdout",
     "output_type": "stream",
     "text": [
      "A classe que apresentou a maior proporção de sobreviventes dentre os passageiros foi a 1ª Classe com 63%.\n"
     ]
    },
    {
     "data": {
      "image/png": "[encoded data removed]",
      "text/plain": [
       "<Figure size 432x288 with 1 Axes>"
      ]
     },
     "metadata": {
      "needs_background": "light"
     },
     "output_type": "display_data"
    }
   ],
   "source": [
    "# Verificando a proporcionalidade de passageiros sobreviventes por classe\n",
    "perc_surv_class_1 = round((df_surv_class_1.shape[0]/df_titanic.query('Pclass == \"1\"').shape[0])*100)\n",
    "perc_surv_class_2 = round((df_surv_class_2.shape[0]/df_titanic.query('Pclass == \"2\"').shape[0])*100)\n",
    "perc_surv_class_3 = round((df_surv_class_3.shape[0]/df_titanic.query('Pclass == \"3\"').shape[0])*100)\n",
    "\n",
    "# Criando gráfico comparativo de proporcionalidade de sobreviventes por classe\n",
    "plt.bar([1,2,3],[perc_surv_class_1, perc_surv_class_2, perc_surv_class_3],color =['gold','silver','brown'], tick_label = ['1ª','2ª','3ª'])\n",
    "plt.title('Proporção de passageiros sobreviventes por classe')\n",
    "plt.ylabel('Porcentagem de sobreviventes')\n",
    "plt.xlabel('Classe')\n",
    "\n",
    "# Criando condiocional para declarar a classe com a maior proporção de sobreviventes\n",
    "if perc_surv_class_1 >= perc_surv_class_2 and perc_surv_class_1 >= perc_surv_class_3:\n",
    "    print('A classe que apresentou a maior proporção de sobreviventes dentre os passageiros foi a 1ª Classe com {}%.'.format(perc_surv_class_1))\n",
    "elif perc_surv_class_2 >= perc_surv_class_1 and perc_surv_class_2 >= perc_surv_class_3:\n",
    "     print('A classe que apresentou a maior proporção de sobreviventes dentre os passageiros foi a 2ª Classe com {}%.'.format(perc_surv_class_2))\n",
    "else:\n",
    "     print('A classe que apresentou a maior proporção de sobreviventes dentre os passageiros foi a 3ª Classe com {}%.'.format(perc_surv_class_3))"
   ]
  },
  {
   "cell_type": "markdown",
   "metadata": {},
   "source": [
    "# Conclusões parciais sobre a análise de sobreviventes por classe"
   ]
  },
  {
   "cell_type": "markdown",
   "metadata": {},
   "source": [
    "- Dentre o universo de passageiros(891) deste DataFrame, a classe que apresentou maior quantidade absoluta e proporcional de sobreviventes foi a 1ª classe, com 136 e 63%, respectivamente. Apesar de em quantidade absoluta de sobreviventes a 3ª classe ter superado a 2ª classe,  o mesmo não se percebeu na quantidade proporcional, demonstrando que a classe que teve a maior quantidade de vidas perdiadas foi a 3ª classe."
   ]
  },
  {
   "cell_type": "markdown",
   "metadata": {},
   "source": [
    "# Conclusões Gerais"
   ]
  },
  {
   "cell_type": "markdown",
   "metadata": {},
   "source": [
    "Limitações do Dataframe:\n",
    " - Este DataFrame não contempla todos os passageiros que embarcaram no Titanic e não contabiliza os tripulantes, portanto esta não e uma análise defitiva e sim de uma amostra dos passageiros que embarcaram no navio.\n",
    " - Existem valores faltantes nas colunas 'Age', 'Cabin' e 'Embarked'. A única que gerou  impacto na análise foi a coluna \"Age\", que teve de ter seus valores faltantes preenchidos pela média de idade de seu respectivo gênero, para que a análise pudesse ser efetuada.\n",
    "\n",
    "Perguntas e Respostas.\n",
    "\n",
    "Dentre os homens deste DataFrame, qual a quantidade, a porcentagem e a idade média dos que sobreviveram?\n",
    "\n",
    "Dentre os homens deste DataFrame, qual faixa etária apresentou a maior proporção de sobreviventes?\n",
    "\n",
    "- Dentre o universo de homens(577) deste DataFrame, foi verificado que 468 homens morreram, enquanto que apenas 109 homens sobreviveram, apresentando uma porcentagem de sobrevivência de 19%. A idade média de sobreviventes homens foi de 28 anos, porém a faixa etária que apresentou a maior quantidade, proporcional, de sobreviventes foi a de crianças(de 0 a 13 anos) com taxa de sobrevivência de 54%.\n",
    "\n",
    "Dentre as mulheres deste DataFrame, qual a quantidade, a porcentagem e a idade média dos que sobreviveram?\n",
    "\n",
    "Dentre as mulheres deste DataFrame, qual faixa etária apresentou a maior proporção de sobreviventes?\n",
    "\n",
    "- Dentre o universo de mulheres(314) deste DataFrame, foi verificado que 81 mulheres morreram, enquanto que 233 mulheres sobreviveram, apresentando uma porcentagem de sobrevivência de 74%. A idade média de sobreviventes mulheres foi de 29 anos, porém a faixa etária que apresentou a maior quantidade, proporcional, de sobreviventes foi a de idosas(de 50 a 149 anos) com taxa de sobrevivência de 94%.\n",
    "\n",
    "Dentre as divisões de classe dos passageiros do Titanic, qual a que apresentou a maior quantidade absoluta de sobreviventes?\n",
    "\n",
    "Dentre as divisões de classe dos passageiros do Titanic, qual a que apresentou a maior quantidade proporcional de sobreviventes?\n",
    " \n",
    " - Dentre o universo de passageiros(891) deste DataFrame, a classe que apresentou maior quantidade absoluta e proporcional de sobreviventes foi a 1ª classe, com 136 e 63%, respectivamente. Apesar de em quantidade absoluta de sobreviventes a 3ª classe ter superado a 2ª classe,  o mesmo não se percebeu na quantidade proporcional, demonstrando que a classe que teve a maior quantidade de vidas perdiadas foi a 3ª classe.\n",
    " \n",
    "Diante da análise exposta, foi possível concluir que: \n",
    " - entre as classes, houve prioridade de evacuaçao da 1ª classe, tendo a 3ª classe a mior quantidade de vidas perdidas;\n",
    " - entre homens e mulheres, houve prioridade de evacuação de mulheres, demonstrando uma proporcionalidade muito maior de sobreviventes mulheres;\n",
    " - dentre os homens, houve prioridade de evacuação dos meninos;\n",
    " - dentre as mulheres, houve prioridade de evacuação das idosas;"
   ]
  }
 ],
 "metadata": {
  "kernelspec": {
   "display_name": "Python 3",
   "language": "python",
   "name": "python3"
  },
  "language_info": {
   "codemirror_mode": {
    "name": "ipython",
    "version": 3
   },
   "file_extension": ".py",
   "mimetype": "text/x-python",
   "name": "python",
   "nbconvert_exporter": "python",
   "pygments_lexer": "ipython3",
   "version": "3.7.2"
  }
 },
 "nbformat": 4,
 "nbformat_minor": 2
}
